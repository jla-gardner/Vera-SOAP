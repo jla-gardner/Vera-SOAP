{
 "cells": [
  {
   "cell_type": "code",
   "execution_count": 1,
   "id": "49bd858f",
   "metadata": {},
   "outputs": [],
   "source": [
    "from ase.lattice.cubic import Diamond\n",
    "from quippy.descriptors import Descriptor\n",
    "\n",
    "from soap_package5 import  soap_desc"
   ]
  },
  {
   "cell_type": "code",
   "execution_count": 2,
   "id": "5051adeb",
   "metadata": {},
   "outputs": [],
   "source": [
    "atoms = Diamond(\"C\")\n",
    "atoms.set_pbc([False,False,False])"
   ]
  },
  {
   "cell_type": "code",
   "execution_count": 3,
   "id": "66ea2cc5",
   "metadata": {},
   "outputs": [
    {
     "data": {
      "text/plain": [
       "array([array([ 0.78892733,  0.24250143,  0.26631375, -0.27142635,  0.08989803,\n",
       "               0.4075657 ])                                                   ,\n",
       "       array([ 0.98432474,  0.00672423, -0.16790286, -0.00305207,  0.02864032,\n",
       "               0.04515136])                                                   ,\n",
       "       array([ 0.95622313,  0.2007262 ,  0.14811591, -0.07841168,  0.02294268,\n",
       "               0.12935704])                                                   ,\n",
       "       array([ 0.88834339,  0.44804896,  0.06282676, -0.06998683,  0.00444333,\n",
       "               0.03511471])                                                   ,\n",
       "       array([ 0.91362679,  0.1757659 ,  0.05928723, -0.21644159,  0.00384728,\n",
       "               0.2898546 ])                                                   ,\n",
       "       array([ 0.8909398 ,  0.40153363,  0.05120953, -0.13733222,  0.00294343,\n",
       "               0.153316  ])                                                   ,\n",
       "       array([ 0.92818456,  0.31370745,  0.06192038, -0.13653607,  0.00413079,\n",
       "               0.13254347])                                                   ,\n",
       "       array([ 0.85525411,  0.49920797,  0.04523887, -0.11606069,  0.00239292,\n",
       "               0.06172072])                                                   ],\n",
       "      dtype=object)"
      ]
     },
     "execution_count": 3,
     "metadata": {},
     "output_type": "execute_result"
    }
   ],
   "source": [
    "soap_desc(atoms,rcut = 3.7,l_max = 1, n_max = 2,atom_sigma = 0.5)"
   ]
  },
  {
   "cell_type": "code",
   "execution_count": 5,
   "id": "86308705",
   "metadata": {},
   "outputs": [
    {
     "data": {
      "text/plain": [
       "array([[9.94627490e-01, 9.35533000e-13, 1.03214779e-01, 1.04593534e-07,\n",
       "        5.35541734e-03, 5.84683137e-03, 0.00000000e+00],\n",
       "       [9.94841169e-01, 8.87519038e-13, 1.01162378e-01, 9.92255247e-08,\n",
       "        5.14344752e-03, 5.54675693e-03, 0.00000000e+00],\n",
       "       [9.43666135e-01, 9.20572652e-12, 3.21239035e-01, 1.02920952e-06,\n",
       "        5.46774511e-02, 5.75333319e-02, 0.00000000e+00],\n",
       "       [9.42143615e-01, 1.10856746e-11, 3.23249527e-01, 1.23938961e-06,\n",
       "        5.54534655e-02, 6.92825050e-02, 0.00000000e+00],\n",
       "       [9.43666135e-01, 9.20572652e-12, 3.21239035e-01, 1.02920952e-06,\n",
       "        5.46774511e-02, 5.75333319e-02, 0.00000000e+00],\n",
       "       [9.42143615e-01, 1.10856746e-11, 3.23249527e-01, 1.23938961e-06,\n",
       "        5.54534655e-02, 6.92825050e-02, 0.00000000e+00],\n",
       "       [9.43666135e-01, 9.20572652e-12, 3.21239035e-01, 1.02920952e-06,\n",
       "        5.46774511e-02, 5.75333319e-02, 0.00000000e+00],\n",
       "       [9.42143615e-01, 1.10856746e-11, 3.23249527e-01, 1.23938961e-06,\n",
       "        5.54534655e-02, 6.92825050e-02, 0.00000000e+00]])"
      ]
     },
     "execution_count": 5,
     "metadata": {},
     "output_type": "execute_result"
    }
   ],
   "source": [
    "gap = Descriptor(\"soap cutoff=3.7 l_max=1 n_max=2 atom_sigma=0.5\")\n",
    "desc_gap = gap.calc(atoms)\n",
    "desc_gap['data']"
   ]
  }
 ],
 "metadata": {
  "kernelspec": {
   "display_name": "Python 3 (ipykernel)",
   "language": "python",
   "name": "python3"
  },
  "language_info": {
   "codemirror_mode": {
    "name": "ipython",
    "version": 3
   },
   "file_extension": ".py",
   "mimetype": "text/x-python",
   "name": "python",
   "nbconvert_exporter": "python",
   "pygments_lexer": "ipython3",
   "version": "3.9.7"
  }
 },
 "nbformat": 4,
 "nbformat_minor": 5
}
