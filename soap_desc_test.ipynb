{
 "cells": [
  {
   "cell_type": "code",
   "execution_count": 61,
   "id": "49bd858f",
   "metadata": {},
   "outputs": [],
   "source": [
    "from ase.lattice.cubic import Diamond\n",
    "from soap_package5 import  soap_desc\n",
    "\n",
    "atoms = Diamond(\"C\")\n",
    "atoms.set_pbc([False,False,False])"
   ]
  },
  {
   "cell_type": "code",
   "execution_count": 62,
   "id": "66ea2cc5",
   "metadata": {},
   "outputs": [
    {
     "data": {
      "text/plain": [
       "array([array([ 8.25894243e-01,  5.36323937e-01,  1.70292389e-02, -1.09203508e-01,\n",
       "               3.51128463e-04,  1.34312355e-01])                                 ,\n",
       "       array([ 0.95796878,  0.04046704, -0.27013234, -0.02065592,  0.07617313,\n",
       "               0.0381804 ])                                                   ,\n",
       "       array([ 0.93705041,  0.19536394, -0.12881926, -0.13689529,  0.01770919,\n",
       "               0.21936526])                                                   ,\n",
       "       array([ 0.84068445,  0.25683671, -0.11484131, -0.28268593,  0.01568784,\n",
       "               0.36597621])                                                   ,\n",
       "       array([ 0.92382072,  0.35979201, -0.11802057, -0.04049007,  0.01507744,\n",
       "               0.03618495])                                                   ,\n",
       "       array([ 0.88834565,  0.3194451 , -0.09400818, -0.20962407,  0.00994831,\n",
       "               0.23647002])                                                   ,\n",
       "       array([ 0.85009241,  0.38839899, -0.14584893, -0.23176134,  0.02502306,\n",
       "               0.22556095])                                                   ,\n",
       "       array([ 0.86593909,  0.24632859, -0.11346015, -0.25494638,  0.01486618,\n",
       "               0.33373621])                                                   ],\n",
       "      dtype=object)"
      ]
     },
     "execution_count": 62,
     "metadata": {},
     "output_type": "execute_result"
    }
   ],
   "source": [
    "soap_desc(atoms,rcut = 3.7,l_max = 1, n_max = 2,atom_sigma = 0.5)"
   ]
  }
 ],
 "metadata": {
  "kernelspec": {
   "display_name": "Python 3 (ipykernel)",
   "language": "python",
   "name": "python3"
  },
  "language_info": {
   "codemirror_mode": {
    "name": "ipython",
    "version": 3
   },
   "file_extension": ".py",
   "mimetype": "text/x-python",
   "name": "python",
   "nbconvert_exporter": "python",
   "pygments_lexer": "ipython3",
   "version": "3.9.7"
  }
 },
 "nbformat": 4,
 "nbformat_minor": 5
}
