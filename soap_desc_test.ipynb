{
 "cells": [
  {
   "cell_type": "code",
   "execution_count": 1,
   "id": "49bd858f",
   "metadata": {},
   "outputs": [],
   "source": [
    "import numpy as np\n",
    "\n",
    "from ase import Atoms\n",
    "from ase.io import read\n",
    "from ase.lattice.cubic import Diamond\n",
    "from ase.lattice.hexagonal import Graphite\n",
    "\n",
    "import quippy\n",
    "from quippy.descriptors import Descriptor\n",
    "\n",
    "# from dscribe.descriptors import SOAP\n",
    "\n",
    "from soap_package5 import  soap_desc"
   ]
  },
  {
   "cell_type": "code",
   "execution_count": 2,
   "id": "5051adeb",
   "metadata": {},
   "outputs": [],
   "source": [
    "atoms = Diamond(\"C\")\n",
    "atoms.set_pbc([False,False,False])"
   ]
  },
  {
   "cell_type": "code",
   "execution_count": 3,
   "id": "66ea2cc5",
   "metadata": {},
   "outputs": [],
   "source": [
    "desc_vera = soap_desc(atoms,rcut = 3.7,l_max = 1, n_max = 2,atom_sigma = 0.5)"
   ]
  },
  {
   "cell_type": "code",
   "execution_count": 4,
   "id": "14f2f0a2",
   "metadata": {},
   "outputs": [
    {
     "data": {
      "text/plain": [
       "array([array([ 0.84524512,  0.42374559, -0.13552799, -0.25338436,  0.02173078,\n",
       "               0.15151458])                                                   ,\n",
       "       array([ 0.94512803,  0.02228462, -0.30919639, -0.01621438,  0.10115286,\n",
       "               0.01179765])                                                   ,\n",
       "       array([ 0.90708287,  0.2740529 , -0.24578702, -0.16509778,  0.06659949,\n",
       "               0.09995823])                                                   ,\n",
       "       array([ 0.89081196,  0.336108  , -0.18000528, -0.20718816,  0.03637345,\n",
       "               0.12974435])                                                   ,\n",
       "       array([ 0.90708287,  0.2740529 , -0.24578702, -0.16509778,  0.06659949,\n",
       "               0.09995823])                                                   ,\n",
       "       array([ 0.89081196,  0.336108  , -0.18000528, -0.20718816,  0.03637345,\n",
       "               0.12974435])                                                   ,\n",
       "       array([ 0.90708287,  0.2740529 , -0.24578702, -0.16509778,  0.06659949,\n",
       "               0.09995823])                                                   ,\n",
       "       array([ 0.89081196,  0.336108  , -0.18000528, -0.20718816,  0.03637345,\n",
       "               0.12974435])                                                   ],\n",
       "      dtype=object)"
      ]
     },
     "execution_count": 4,
     "metadata": {},
     "output_type": "execute_result"
    }
   ],
   "source": [
    "desc_vera"
   ]
  },
  {
   "cell_type": "code",
   "execution_count": 5,
   "id": "86308705",
   "metadata": {},
   "outputs": [
    {
     "data": {
      "text/plain": [
       "array([[9.94627490e-01, 9.35533000e-13, 1.03214779e-01, 1.04593534e-07,\n",
       "        5.35541734e-03, 5.84683137e-03, 0.00000000e+00],\n",
       "       [9.94841169e-01, 8.87519038e-13, 1.01162378e-01, 9.92255247e-08,\n",
       "        5.14344752e-03, 5.54675693e-03, 0.00000000e+00],\n",
       "       [9.43666135e-01, 9.20572652e-12, 3.21239035e-01, 1.02920952e-06,\n",
       "        5.46774511e-02, 5.75333319e-02, 0.00000000e+00],\n",
       "       [9.42143615e-01, 1.10856746e-11, 3.23249527e-01, 1.23938961e-06,\n",
       "        5.54534655e-02, 6.92825050e-02, 0.00000000e+00],\n",
       "       [9.43666135e-01, 9.20572652e-12, 3.21239035e-01, 1.02920952e-06,\n",
       "        5.46774511e-02, 5.75333319e-02, 0.00000000e+00],\n",
       "       [9.42143615e-01, 1.10856746e-11, 3.23249527e-01, 1.23938961e-06,\n",
       "        5.54534655e-02, 6.92825050e-02, 0.00000000e+00],\n",
       "       [9.43666135e-01, 9.20572652e-12, 3.21239035e-01, 1.02920952e-06,\n",
       "        5.46774511e-02, 5.75333319e-02, 0.00000000e+00],\n",
       "       [9.42143615e-01, 1.10856746e-11, 3.23249527e-01, 1.23938961e-06,\n",
       "        5.54534655e-02, 6.92825050e-02, 0.00000000e+00]])"
      ]
     },
     "execution_count": 5,
     "metadata": {},
     "output_type": "execute_result"
    }
   ],
   "source": [
    "gap = Descriptor(\"soap cutoff=3.7 l_max=1 n_max=2 atom_sigma=0.5\")\n",
    "desc_gap = gap.calc(atoms)\n",
    "desc_gap['data']"
   ]
  },
  {
   "cell_type": "code",
   "execution_count": 5,
   "id": "bf7efbdd",
   "metadata": {},
   "outputs": [
    {
     "data": {
      "text/plain": [
       "array([[2.92859121e-01, 4.90306315e-01, 8.20873469e-01, 6.30721907e-34,\n",
       "        3.52422127e-34, 1.99491749e-34],\n",
       "       [1.86191980e-01, 3.90027050e-01, 8.17012096e-01, 3.74286587e-01,\n",
       "        7.35104723e-02, 1.44375720e-02],\n",
       "       [1.86191980e-01, 3.90027050e-01, 8.17012096e-01, 3.74286587e-01,\n",
       "        7.35104723e-02, 1.44375720e-02],\n",
       "       [1.86191980e-01, 3.90027050e-01, 8.17012096e-01, 3.74286587e-01,\n",
       "        7.35104723e-02, 1.44375720e-02],\n",
       "       [1.86191980e-01, 3.90027050e-01, 8.17012096e-01, 3.74286587e-01,\n",
       "        7.35104723e-02, 1.44375720e-02]])"
      ]
     },
     "execution_count": 5,
     "metadata": {},
     "output_type": "execute_result"
    }
   ],
   "source": [
    "dscribe = SOAP(species = ['C'],rcut=3.7, nmax=2, lmax=1, sigma=0.5, rbf='polynomial')\n",
    "desc_dscribe = dscribe.create(atoms)\n",
    "\n",
    "for i in range(len(desc_dscribe)):\n",
    "    desc_dscribe[i]=desc_dscribe[i] / np.linalg.norm(desc_dscribe[i]) #normalisation"
   ]
  }
 ],
 "metadata": {
  "kernelspec": {
   "display_name": "Python 3 (ipykernel)",
   "language": "python",
   "name": "python3"
  },
  "language_info": {
   "codemirror_mode": {
    "name": "ipython",
    "version": 3
   },
   "file_extension": ".py",
   "mimetype": "text/x-python",
   "name": "python",
   "nbconvert_exporter": "python",
   "pygments_lexer": "ipython3",
   "version": "3.9.7"
  }
 },
 "nbformat": 4,
 "nbformat_minor": 5
}
