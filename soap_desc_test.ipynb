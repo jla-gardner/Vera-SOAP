{
 "cells": [
  {
   "cell_type": "code",
   "execution_count": 1,
   "id": "49bd858f",
   "metadata": {},
   "outputs": [],
   "source": [
    "from ase.lattice.cubic import Diamond\n",
    "from soap_package5 import  soap_desc\n",
    "\n",
    "atoms = Diamond(\"C\")\n",
    "atoms.set_pbc([False,False,False])"
   ]
  },
  {
   "cell_type": "code",
   "execution_count": 2,
   "id": "66ea2cc5",
   "metadata": {},
   "outputs": [
    {
     "data": {
      "text/plain": [
       "array([array([ 0.86253867,  0.45715099, -0.12000106, -0.16611458,  0.0166952 ,\n",
       "               0.06904328])                                                   ,\n",
       "       array([ 0.9666962 ,  0.05263507, -0.24241795, -0.01396508,  0.06079104,\n",
       "               0.00842446])                                                   ,\n",
       "       array([ 0.93745758,  0.22986445, -0.20879813, -0.1199064 ,  0.04650521,\n",
       "               0.09054653])                                                   ,\n",
       "       array([ 0.92006373,  0.2512918 , -0.1222196 , -0.20286507,  0.01623543,\n",
       "               0.18433587])                                                   ,\n",
       "       array([ 0.92996444,  0.29338686, -0.19219545, -0.09633624,  0.03972097,\n",
       "               0.03595512])                                                   ,\n",
       "       array([ 0.93978133,  0.27384773, -0.08993764, -0.15166   ,  0.00860709,\n",
       "               0.10322236])                                                   ,\n",
       "       array([ 0.92882636,  0.2304257 , -0.22823031, -0.13496383,  0.05608053,\n",
       "               0.10361593])                                                   ,\n",
       "       array([ 0.94978107,  0.17740591, -0.1244689 , -0.15901069,  0.01631166,\n",
       "               0.15937403])                                                   ],\n",
       "      dtype=object)"
      ]
     },
     "execution_count": 2,
     "metadata": {},
     "output_type": "execute_result"
    }
   ],
   "source": [
    "soap_desc(atoms,rcut = 3.7,l_max = 1, n_max = 2,atom_sigma = 0.5)"
   ]
  },
  {
   "cell_type": "code",
   "execution_count": null,
   "id": "bbeab759",
   "metadata": {},
   "outputs": [],
   "source": []
  }
 ],
 "metadata": {
  "kernelspec": {
   "display_name": "Python 3 (ipykernel)",
   "language": "python",
   "name": "python3"
  },
  "language_info": {
   "codemirror_mode": {
    "name": "ipython",
    "version": 3
   },
   "file_extension": ".py",
   "mimetype": "text/x-python",
   "name": "python",
   "nbconvert_exporter": "python",
   "pygments_lexer": "ipython3",
   "version": "3.9.7"
  }
 },
 "nbformat": 4,
 "nbformat_minor": 5
}
