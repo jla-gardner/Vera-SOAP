{
 "cells": [
  {
   "cell_type": "code",
   "execution_count": 59,
   "id": "49bd858f",
   "metadata": {},
   "outputs": [],
   "source": [
    "from ase.lattice.cubic import Diamond\n",
    "from soap_package5 import  soap_desc\n",
    "\n",
    "atoms = Diamond(\"C\")\n",
    "atoms.set_pbc([False,False,False])"
   ]
  },
  {
   "cell_type": "code",
   "execution_count": 60,
   "id": "66ea2cc5",
   "metadata": {},
   "outputs": [
    {
     "data": {
      "text/plain": [
       "array([array([ 0.6700221 ,  0.55630742, -0.30197461, -0.31554165,  0.136098  ,\n",
       "               0.17976258])                                                   ,\n",
       "       array([ 0.87430972,  0.02380087, -0.43387657, -0.01636486,  0.21531143,\n",
       "               0.0118464 ])                                                   ,\n",
       "       array([ 0.82716033,  0.25906444, -0.40952221, -0.16607357,  0.20275204,\n",
       "               0.11087892])                                                   ,\n",
       "       array([ 0.75700707,  0.40625561, -0.36792405, -0.25768495,  0.17882014,\n",
       "               0.16778075])                                                   ,\n",
       "       array([ 0.81102168,  0.31174774, -0.39907906, -0.18539364,  0.19637465,\n",
       "               0.11339881])                                                   ,\n",
       "       array([ 0.7480222 ,  0.42347891, -0.36121969, -0.26643006,  0.17443287,\n",
       "               0.17098812])                                                   ,\n",
       "       array([ 0.82168049,  0.32407456, -0.38321405, -0.1772906 ,  0.17872276,\n",
       "               0.09792884])                                                   ,\n",
       "       array([ 0.73148087,  0.46002751, -0.34782108, -0.2772846 ,  0.16538984,\n",
       "               0.16760181])                                                   ],\n",
       "      dtype=object)"
      ]
     },
     "execution_count": 60,
     "metadata": {},
     "output_type": "execute_result"
    }
   ],
   "source": [
    "soap_desc(atoms,rcut = 3.7,l_max = 1, n_max = 2,atom_sigma = 0.5)"
   ]
  }
 ],
 "metadata": {
  "kernelspec": {
   "display_name": "Python 3 (ipykernel)",
   "language": "python",
   "name": "python3"
  },
  "language_info": {
   "codemirror_mode": {
    "name": "ipython",
    "version": 3
   },
   "file_extension": ".py",
   "mimetype": "text/x-python",
   "name": "python",
   "nbconvert_exporter": "python",
   "pygments_lexer": "ipython3",
   "version": "3.9.7"
  }
 },
 "nbformat": 4,
 "nbformat_minor": 5
}
